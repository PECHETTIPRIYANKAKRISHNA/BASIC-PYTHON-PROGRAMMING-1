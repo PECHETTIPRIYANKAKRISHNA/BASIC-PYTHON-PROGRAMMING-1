{
 "cells": [
  {
   "cell_type": "markdown",
   "id": "b890de7b",
   "metadata": {},
   "source": [
    "#  CHAPTER-01: FIRST PYTHON PROGRAMMING"
   ]
  },
  {
   "cell_type": "markdown",
   "id": "d477da00",
   "metadata": {},
   "source": [
    "### 1.1 HELLO WORLD\n",
    "\n",
    "- FUNCTION: ANYTHING ANYCLOSED WITH PARANTHESIS IS CALLED A FUNCTION\n",
    "- QUOTES : QUOTES ARE MANDATORY TO PRINT THE STATEMENT"
   ]
  },
  {
   "cell_type": "code",
   "execution_count": 1,
   "id": "94e26eea",
   "metadata": {},
   "outputs": [
    {
     "name": "stdout",
     "output_type": "stream",
     "text": [
      "67\n"
     ]
    }
   ],
   "source": [
    "print(67)"
   ]
  },
  {
   "cell_type": "code",
   "execution_count": 2,
   "id": "557693ca",
   "metadata": {},
   "outputs": [
    {
     "data": {
      "text/plain": [
       "67"
      ]
     },
     "execution_count": 2,
     "metadata": {},
     "output_type": "execute_result"
    }
   ],
   "source": [
    "67"
   ]
  },
  {
   "cell_type": "code",
   "execution_count": 3,
   "id": "99ce2272",
   "metadata": {},
   "outputs": [
    {
     "name": "stdout",
     "output_type": "stream",
     "text": [
      "hello all..!! Welcome to data science sesssion with john\n"
     ]
    }
   ],
   "source": [
    "print('hello all..!! Welcome to data science sesssion with john')"
   ]
  },
  {
   "cell_type": "markdown",
   "id": "4bd2c3f6",
   "metadata": {},
   "source": [
    "Mukul said to vinay, john's session is bit boring."
   ]
  },
  {
   "cell_type": "code",
   "execution_count": 4,
   "id": "ad1809bf",
   "metadata": {},
   "outputs": [
    {
     "name": "stdout",
     "output_type": "stream",
     "text": [
      "Mukul said to vinay, john's session is bit boring.\n"
     ]
    }
   ],
   "source": [
    "print(\"Mukul said to vinay, john's session is bit boring.\")"
   ]
  },
  {
   "cell_type": "markdown",
   "id": "2f4360d0",
   "metadata": {},
   "source": [
    "Mukul said to vinay, \"john's session is bit boring.\"\""
   ]
  },
  {
   "cell_type": "code",
   "execution_count": 5,
   "id": "8b21b317",
   "metadata": {},
   "outputs": [
    {
     "name": "stdout",
     "output_type": "stream",
     "text": [
      "Mukul said to vinay, \"john's session is bit boring.\"\n"
     ]
    }
   ],
   "source": [
    "print('''Mukul said to vinay, \"john's session is bit boring.\"''')"
   ]
  },
  {
   "cell_type": "markdown",
   "id": "6cf1a7a6",
   "metadata": {},
   "source": [
    "### 1.2 CREATE A VARIABLE\n",
    "\n",
    "- participants- is a variable .\n",
    "- a variable name should be created for representing a  data.In simple, creating variables means create containers to store data.After creating the variable the data in the container can be manipulaated.\n",
    "- Here the index starts from 0\n",
    "- method is equal to function\n",
    "- len returns the no of items in the container.\n",
    "- always for data filtering we use square brackets."
   ]
  },
  {
   "cell_type": "code",
   "execution_count": 6,
   "id": "eb9f3403",
   "metadata": {},
   "outputs": [],
   "source": [
    "participants=['akash','arnav','arav','akhila'] #list # it is a 1-D data"
   ]
  },
  {
   "cell_type": "code",
   "execution_count": 7,
   "id": "cafa2d00",
   "metadata": {},
   "outputs": [
    {
     "data": {
      "text/plain": [
       "['akash', 'arnav', 'arav', 'akhila']"
      ]
     },
     "execution_count": 7,
     "metadata": {},
     "output_type": "execute_result"
    }
   ],
   "source": [
    "participants"
   ]
  },
  {
   "cell_type": "code",
   "execution_count": 8,
   "id": "cfedf076",
   "metadata": {},
   "outputs": [
    {
     "data": {
      "text/plain": [
       "4"
      ]
     },
     "execution_count": 8,
     "metadata": {},
     "output_type": "execute_result"
    }
   ],
   "source": [
    "#find the length\n",
    "len(participants)"
   ]
  },
  {
   "cell_type": "code",
   "execution_count": 9,
   "id": "3c34bbef",
   "metadata": {},
   "outputs": [
    {
     "data": {
      "text/plain": [
       "'arav'"
      ]
     },
     "execution_count": 9,
     "metadata": {},
     "output_type": "execute_result"
    }
   ],
   "source": [
    "# filtering the data/data manupulation\n",
    "\n",
    "participants[2]# one element"
   ]
  },
  {
   "cell_type": "code",
   "execution_count": 10,
   "id": "01bacd63",
   "metadata": {},
   "outputs": [
    {
     "data": {
      "text/plain": [
       "['arav', 'akhila']"
      ]
     },
     "execution_count": 10,
     "metadata": {},
     "output_type": "execute_result"
    }
   ],
   "source": [
    "participants[2:]# printing all the values from 2.Here before colon is starting point and : indicates the end point"
   ]
  },
  {
   "cell_type": "code",
   "execution_count": 11,
   "id": "36da9c2f",
   "metadata": {},
   "outputs": [
    {
     "data": {
      "text/plain": [
       "['arnav', 'arav']"
      ]
     },
     "execution_count": 11,
     "metadata": {},
     "output_type": "execute_result"
    }
   ],
   "source": [
    "participants[1:3]# ending number should be n+1"
   ]
  },
  {
   "cell_type": "markdown",
   "id": "3c89d6c8",
   "metadata": {},
   "source": [
    "# CHAPTER 02: STRING AND STRING METHODS"
   ]
  },
  {
   "cell_type": "markdown",
   "id": "ebce4724",
   "metadata": {},
   "source": [
    "###   There are 3 data types in python\n",
    "- 1. int - numbers without decimal point is called int \n",
    "- 2. string - anything which is enclosed with quotes is called string\n",
    "- 3. Float - numbers with decimal point is called float"
   ]
  },
  {
   "cell_type": "markdown",
   "id": "8be2ff1d",
   "metadata": {},
   "source": [
    "#### 2.1 What is a string?"
   ]
  },
  {
   "cell_type": "code",
   "execution_count": 12,
   "id": "6db91441",
   "metadata": {},
   "outputs": [],
   "source": [
    "anavidhya_avg_scores='99.99'"
   ]
  },
  {
   "cell_type": "code",
   "execution_count": 13,
   "id": "b24ce42a",
   "metadata": {},
   "outputs": [
    {
     "data": {
      "text/plain": [
       "str"
      ]
     },
     "execution_count": 13,
     "metadata": {},
     "output_type": "execute_result"
    }
   ],
   "source": [
    "type(anavidhya_avg_scores)"
   ]
  },
  {
   "cell_type": "code",
   "execution_count": 14,
   "id": "b9bde760",
   "metadata": {},
   "outputs": [],
   "source": [
    "anavidhya_avg_scores=99.99"
   ]
  },
  {
   "cell_type": "code",
   "execution_count": 15,
   "id": "2c854eb1",
   "metadata": {},
   "outputs": [
    {
     "data": {
      "text/plain": [
       "float"
      ]
     },
     "execution_count": 15,
     "metadata": {},
     "output_type": "execute_result"
    }
   ],
   "source": [
    "type(anavidhya_avg_scores)"
   ]
  },
  {
   "cell_type": "code",
   "execution_count": 16,
   "id": "fb99bf6c",
   "metadata": {},
   "outputs": [],
   "source": [
    "anavidhya_avg_scores=99"
   ]
  },
  {
   "cell_type": "code",
   "execution_count": 17,
   "id": "d91c7792",
   "metadata": {},
   "outputs": [
    {
     "data": {
      "text/plain": [
       "int"
      ]
     },
     "execution_count": 17,
     "metadata": {},
     "output_type": "execute_result"
    }
   ],
   "source": [
    "type(anavidhya_avg_scores)"
   ]
  },
  {
   "cell_type": "markdown",
   "id": "353b3de3",
   "metadata": {},
   "source": [
    "#### 2.2  CONCATENATION - INDEXING - SLICING"
   ]
  },
  {
   "cell_type": "code",
   "execution_count": 18,
   "id": "663a74d1",
   "metadata": {},
   "outputs": [],
   "source": [
    "fname='arnav '\n",
    "lname ='singh '\n",
    "age=24"
   ]
  },
  {
   "cell_type": "code",
   "execution_count": 19,
   "id": "dd5fa786",
   "metadata": {},
   "outputs": [
    {
     "data": {
      "text/plain": [
       "('arnav ', 'singh ')"
      ]
     },
     "execution_count": 19,
     "metadata": {},
     "output_type": "execute_result"
    }
   ],
   "source": [
    "fname,lname"
   ]
  },
  {
   "cell_type": "code",
   "execution_count": 20,
   "id": "d9d1fb57",
   "metadata": {},
   "outputs": [
    {
     "name": "stdout",
     "output_type": "stream",
     "text": [
      "arnav \n",
      "singh \n"
     ]
    }
   ],
   "source": [
    "print(fname) # variable name should not be given quotes\n",
    "print(lname)"
   ]
  },
  {
   "cell_type": "code",
   "execution_count": 21,
   "id": "8f98b70e",
   "metadata": {},
   "outputs": [
    {
     "name": "stdout",
     "output_type": "stream",
     "text": [
      "arnav  singh  24\n"
     ]
    }
   ],
   "source": [
    "#CONCATENATION - STRING\n",
    "print(fname+' '+lname+' '+str(age)) \n",
    "\n",
    "#TYPE CASTING - converting one variable type to another variable type"
   ]
  },
  {
   "cell_type": "code",
   "execution_count": 22,
   "id": "5064b7e1",
   "metadata": {},
   "outputs": [
    {
     "name": "stdout",
     "output_type": "stream",
     "text": [
      "arnav  singh  24\n"
     ]
    }
   ],
   "source": [
    "print(fname,lname,age)"
   ]
  },
  {
   "cell_type": "code",
   "execution_count": 23,
   "id": "f5264dea",
   "metadata": {},
   "outputs": [
    {
     "name": "stdout",
     "output_type": "stream",
     "text": [
      "FNAME: arnav  LNAME: singh  AGE: 24\n"
     ]
    }
   ],
   "source": [
    "print('FNAME:',fname,'LNAME:',lname,'AGE:',age)"
   ]
  },
  {
   "cell_type": "code",
   "execution_count": 24,
   "id": "13cbada6",
   "metadata": {},
   "outputs": [
    {
     "name": "stdout",
     "output_type": "stream",
     "text": [
      "FNAME: arnav  \n",
      "LNAME: singh  \n",
      "AGE: 24\n"
     ]
    }
   ],
   "source": [
    "#ESCAPE SEQUENCE -TAKING TO A NEWER LINE\n",
    "print('FNAME:',fname,'\\nLNAME:',lname,'\\nAGE:',age)"
   ]
  },
  {
   "cell_type": "code",
   "execution_count": 25,
   "id": "24b6d5fe",
   "metadata": {},
   "outputs": [
    {
     "data": {
      "text/plain": [
       "11"
      ]
     },
     "execution_count": 25,
     "metadata": {},
     "output_type": "execute_result"
    }
   ],
   "source": [
    "# INDEXING AND SCLICING\n",
    "\n",
    "fullname='kushikumari'\n",
    "len(fullname)\n"
   ]
  },
  {
   "cell_type": "code",
   "execution_count": 26,
   "id": "ee0442bf",
   "metadata": {},
   "outputs": [
    {
     "data": {
      "text/plain": [
       "'kumari'"
      ]
     },
     "execution_count": 26,
     "metadata": {},
     "output_type": "execute_result"
    }
   ],
   "source": [
    "fullname[5:]"
   ]
  },
  {
   "cell_type": "code",
   "execution_count": 27,
   "id": "764d9554",
   "metadata": {},
   "outputs": [
    {
     "data": {
      "text/plain": [
       "'kushikumar'"
      ]
     },
     "execution_count": 27,
     "metadata": {},
     "output_type": "execute_result"
    }
   ],
   "source": [
    "fullname[:10]# POSITIVE INDEXING - excliding the last element"
   ]
  },
  {
   "cell_type": "code",
   "execution_count": 28,
   "id": "bf3b17c6",
   "metadata": {},
   "outputs": [
    {
     "data": {
      "text/plain": [
       "'kushikumar'"
      ]
     },
     "execution_count": 28,
     "metadata": {},
     "output_type": "execute_result"
    }
   ],
   "source": [
    "fullname[:-1]# negative indexing - excluding the last element"
   ]
  },
  {
   "cell_type": "code",
   "execution_count": 29,
   "id": "dc7b5f34",
   "metadata": {},
   "outputs": [
    {
     "data": {
      "text/plain": [
       "['akash', 'arnav', 'arav', 'akhila']"
      ]
     },
     "execution_count": 29,
     "metadata": {},
     "output_type": "execute_result"
    }
   ],
   "source": [
    "participants"
   ]
  },
  {
   "cell_type": "code",
   "execution_count": 30,
   "id": "113b04c8",
   "metadata": {},
   "outputs": [
    {
     "data": {
      "text/plain": [
       "['akash', 'arnav']"
      ]
     },
     "execution_count": 30,
     "metadata": {},
     "output_type": "execute_result"
    }
   ],
   "source": [
    "participants[:-2]# excluding the last to elements"
   ]
  },
  {
   "cell_type": "markdown",
   "id": "83ef4ed5",
   "metadata": {},
   "source": [
    "### 2.3 MANIPULATE STRING WITH METHODS"
   ]
  },
  {
   "cell_type": "markdown",
   "id": "21aad9d0",
   "metadata": {},
   "source": [
    "##### TERMINOLOGY ALERT\n",
    "\n",
    "**methods/ functions both are  similar terms.**\n",
    "\n",
    "Q: when to go for methods?\n",
    "\n",
    "A: **To perform some operations on top of the variable**\n",
    "\n",
    "\n",
    "*NOTE: method always end with ()*"
   ]
  },
  {
   "cell_type": "code",
   "execution_count": 31,
   "id": "d4bce5eb",
   "metadata": {},
   "outputs": [],
   "source": [
    "learner_1='sanjay'\n",
    "learner_2='   aman'\n",
    "learner_3='sAdHaam'\n",
    "learner_4='      saran kumar    '"
   ]
  },
  {
   "cell_type": "code",
   "execution_count": 32,
   "id": "cb592a01",
   "metadata": {},
   "outputs": [
    {
     "data": {
      "text/plain": [
       "(6, 7, 7, 21)"
      ]
     },
     "execution_count": 32,
     "metadata": {},
     "output_type": "execute_result"
    }
   ],
   "source": [
    "len(learner_1),len(learner_2),len(learner_3),len(learner_4)"
   ]
  },
  {
   "cell_type": "code",
   "execution_count": 33,
   "id": "a3468017",
   "metadata": {},
   "outputs": [
    {
     "data": {
      "text/plain": [
       "'SANJAY'"
      ]
     },
     "execution_count": 33,
     "metadata": {},
     "output_type": "execute_result"
    }
   ],
   "source": [
    "#As the data is not propor .We perform data cleaning.so here we use string functions.\n",
    "\n",
    "learner_1.upper()"
   ]
  },
  {
   "cell_type": "code",
   "execution_count": 34,
   "id": "2eb02df7",
   "metadata": {},
   "outputs": [
    {
     "data": {
      "text/plain": [
       "'aman'"
      ]
     },
     "execution_count": 34,
     "metadata": {},
     "output_type": "execute_result"
    }
   ],
   "source": [
    "learner_2.lstrip()"
   ]
  },
  {
   "cell_type": "code",
   "execution_count": 35,
   "id": "54abcaf5",
   "metadata": {},
   "outputs": [
    {
     "data": {
      "text/plain": [
       "'sadhaam'"
      ]
     },
     "execution_count": 35,
     "metadata": {},
     "output_type": "execute_result"
    }
   ],
   "source": [
    "learner_3.lower()"
   ]
  },
  {
   "cell_type": "code",
   "execution_count": 36,
   "id": "11b0d307",
   "metadata": {},
   "outputs": [
    {
     "data": {
      "text/plain": [
       "'saran kumar'"
      ]
     },
     "execution_count": 36,
     "metadata": {},
     "output_type": "execute_result"
    }
   ],
   "source": [
    "learner_4.strip()"
   ]
  },
  {
   "cell_type": "code",
   "execution_count": 37,
   "id": "ce7a3453",
   "metadata": {},
   "outputs": [],
   "source": [
    "# hereabove the operation is performed to a certain cell only.\n",
    "# so the operation should be stored inside a variable as below."
   ]
  },
  {
   "cell_type": "code",
   "execution_count": 38,
   "id": "d33df857",
   "metadata": {},
   "outputs": [],
   "source": [
    "learner_1=learner_1.upper()"
   ]
  },
  {
   "cell_type": "code",
   "execution_count": 39,
   "id": "bac9852d",
   "metadata": {},
   "outputs": [],
   "source": [
    "learner_2=learner_2.lstrip()"
   ]
  },
  {
   "cell_type": "code",
   "execution_count": 40,
   "id": "f3df41f2",
   "metadata": {},
   "outputs": [],
   "source": [
    "learner_3=learner_3.lower()"
   ]
  },
  {
   "cell_type": "code",
   "execution_count": 41,
   "id": "ccc729b5",
   "metadata": {},
   "outputs": [],
   "source": [
    "learner_4=learner_4.strip()"
   ]
  },
  {
   "cell_type": "code",
   "execution_count": 42,
   "id": "bd3e4963",
   "metadata": {},
   "outputs": [
    {
     "name": "stdout",
     "output_type": "stream",
     "text": [
      "SANJAY\n",
      "aman\n",
      "sadhaam\n",
      "saran kumar\n"
     ]
    },
    {
     "data": {
      "text/plain": [
       "(6, 4, 7, 11)"
      ]
     },
     "execution_count": 42,
     "metadata": {},
     "output_type": "execute_result"
    }
   ],
   "source": [
    "print(learner_1)\n",
    "print(learner_2)\n",
    "print(learner_3)\n",
    "print(learner_4)\n",
    "len(learner_1),len(learner_2),len(learner_3),len(learner_4)"
   ]
  },
  {
   "cell_type": "code",
   "execution_count": 43,
   "id": "ec922da6",
   "metadata": {},
   "outputs": [
    {
     "data": {
      "text/plain": [
       "(6, 4, 7, 11)"
      ]
     },
     "execution_count": 43,
     "metadata": {},
     "output_type": "execute_result"
    }
   ],
   "source": [
    "len(learner_1),len(learner_2),len(learner_3),len(learner_4)"
   ]
  },
  {
   "cell_type": "markdown",
   "id": "058ec1b8",
   "metadata": {},
   "source": [
    "###  DAILY TASK -01\n",
    "\n",
    "COME UP WITH 2 EXAMPLES WITH  STRING METHOS\n",
    "\n",
    "\n",
    "TIMELINE- EOD"
   ]
  },
  {
   "cell_type": "markdown",
   "id": "badac9d2",
   "metadata": {},
   "source": [
    "### 2.4 INTERACT WITH USER INPUT"
   ]
  },
  {
   "cell_type": "code",
   "execution_count": 44,
   "id": "9dd67675",
   "metadata": {},
   "outputs": [
    {
     "name": "stdout",
     "output_type": "stream",
     "text": [
      "enter your password :Hello\n"
     ]
    }
   ],
   "source": [
    "user_input=input(\"enter your password :\")"
   ]
  },
  {
   "cell_type": "markdown",
   "id": "cfd7f25d",
   "metadata": {},
   "source": [
    "### 2.5 PICKUP THE PART OF USER INPUT\n"
   ]
  },
  {
   "cell_type": "code",
   "execution_count": 45,
   "id": "0935ab5d",
   "metadata": {},
   "outputs": [
    {
     "name": "stdout",
     "output_type": "stream",
     "text": [
      "first letter starts with: H\n"
     ]
    }
   ],
   "source": [
    "print('first letter starts with:',user_input[0])"
   ]
  },
  {
   "cell_type": "markdown",
   "id": "150dfa54",
   "metadata": {},
   "source": [
    "######  NOTE\n",
    "- dont create a variable with keywords\n",
    "- dont start a variable name with upper case\n",
    "- give a meaningful variable name"
   ]
  },
  {
   "cell_type": "markdown",
   "id": "ef9b4511",
   "metadata": {},
   "source": [
    "### 2.6 QUICK EXERCISE TO GET 2 INPUT FROM THE USER AND DISPLAY"
   ]
  },
  {
   "cell_type": "code",
   "execution_count": 46,
   "id": "52d9f415",
   "metadata": {},
   "outputs": [
    {
     "name": "stdout",
     "output_type": "stream",
     "text": [
      "enter your password :Hello\n",
      "enter your password :ALL\n",
      "Hello ALL\n"
     ]
    }
   ],
   "source": [
    "# using comma operator\n",
    "\n",
    "user_input1=input(\"enter your password :\")\n",
    "user_input2=input(\"enter your password :\")\n",
    "print(user_input1,user_input2)"
   ]
  },
  {
   "cell_type": "code",
   "execution_count": 47,
   "id": "23d8e69c",
   "metadata": {},
   "outputs": [
    {
     "name": "stdout",
     "output_type": "stream",
     "text": [
      "enter your name:KUSHI\n",
      "enter your age:30\n",
      "NAME IS:KUSHI AND\n",
      "AGE IS 30\n"
     ]
    }
   ],
   "source": [
    "# using place holders \n",
    "\n",
    "user_name=input(\"enter your name:\")\n",
    "user_age = input('enter your age:')\n",
    "print('NAME IS:{} AND\\nAGE IS {}'.format(user_name,user_age))"
   ]
  },
  {
   "cell_type": "code",
   "execution_count": 48,
   "id": "630c5940",
   "metadata": {},
   "outputs": [
    {
     "name": "stdout",
     "output_type": "stream",
     "text": [
      "enter your name:kushi\n",
      "enter your age:30\n",
      "NAME IS:kushi AND AGE IS 30\n"
     ]
    }
   ],
   "source": [
    "user_name=input(\"enter your name:\")\n",
    "user_age = input('enter your age:')\n",
    "print('NAME IS:{} AND AGE IS {}'.format(user_name,user_age))"
   ]
  },
  {
   "cell_type": "markdown",
   "id": "26689b18",
   "metadata": {},
   "source": [
    "###  CHAPTER 03- NUMBERS IN PYTHON"
   ]
  },
  {
   "cell_type": "code",
   "execution_count": 49,
   "id": "77a856d2",
   "metadata": {},
   "outputs": [
    {
     "name": "stdout",
     "output_type": "stream",
     "text": [
      "enter your marks:100\n",
      "your marks is 100\n"
     ]
    }
   ],
   "source": [
    "user_marks=input('enter your marks:')\n",
    "print('your marks is',user_marks)"
   ]
  },
  {
   "cell_type": "code",
   "execution_count": 50,
   "id": "1305e139",
   "metadata": {},
   "outputs": [
    {
     "name": "stdout",
     "output_type": "stream",
     "text": [
      "your marks is 100\n"
     ]
    }
   ],
   "source": [
    "print('your marks is',user_marks)"
   ]
  },
  {
   "cell_type": "code",
   "execution_count": 51,
   "id": "b85b15b1",
   "metadata": {},
   "outputs": [
    {
     "data": {
      "text/plain": [
       "str"
      ]
     },
     "execution_count": 51,
     "metadata": {},
     "output_type": "execute_result"
    }
   ],
   "source": [
    "type(user_marks)"
   ]
  },
  {
   "cell_type": "code",
   "execution_count": 52,
   "id": "2368e85c",
   "metadata": {},
   "outputs": [
    {
     "name": "stdout",
     "output_type": "stream",
     "text": [
      "enter your marks:-100\n",
      "your marks is -100\n"
     ]
    }
   ],
   "source": [
    "user_marks2=int(input('enter your marks:'))\n",
    "print('your marks is',user_marks2)"
   ]
  },
  {
   "cell_type": "code",
   "execution_count": 53,
   "id": "cae0b883",
   "metadata": {},
   "outputs": [
    {
     "data": {
      "text/plain": [
       "int"
      ]
     },
     "execution_count": 53,
     "metadata": {},
     "output_type": "execute_result"
    }
   ],
   "source": [
    "type(user_marks2)"
   ]
  },
  {
   "cell_type": "code",
   "execution_count": 54,
   "id": "7f642f41",
   "metadata": {},
   "outputs": [
    {
     "name": "stdout",
     "output_type": "stream",
     "text": [
      "enter your marks:-100\n",
      "your marks is 100\n"
     ]
    }
   ],
   "source": [
    "user_marks3=int(input('enter your marks:'))\n",
    "print('your marks is',abs(user_marks3))"
   ]
  },
  {
   "cell_type": "code",
   "execution_count": 55,
   "id": "c2eeaa74",
   "metadata": {},
   "outputs": [
    {
     "data": {
      "text/plain": [
       "int"
      ]
     },
     "execution_count": 55,
     "metadata": {},
     "output_type": "execute_result"
    }
   ],
   "source": [
    "type(user_marks3)"
   ]
  },
  {
   "cell_type": "code",
   "execution_count": null,
   "id": "ba655a5d",
   "metadata": {},
   "outputs": [],
   "source": []
  }
 ],
 "metadata": {
  "kernelspec": {
   "display_name": "Python 3 (ipykernel)",
   "language": "python",
   "name": "python3"
  },
  "language_info": {
   "codemirror_mode": {
    "name": "ipython",
    "version": 3
   },
   "file_extension": ".py",
   "mimetype": "text/x-python",
   "name": "python",
   "nbconvert_exporter": "python",
   "pygments_lexer": "ipython3",
   "version": "3.9.7"
  }
 },
 "nbformat": 4,
 "nbformat_minor": 5
}
